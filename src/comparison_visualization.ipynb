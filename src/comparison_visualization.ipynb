{
 "cells": [
  {
   "cell_type": "code",
   "execution_count": 51,
   "metadata": {},
   "outputs": [],
   "source": [
    "import numpy as np\n",
    "import pandas as pd\n",
    "import matplotlib.pyplot as plt\n",
    "from gradient_descents import classic_grad_descent, stochastic_grad_descent, momentum_grad_descent, rmsprop_grad_descent, adam_grad_descent\n",
    "from hypotheses import Linear, Polynomial\n",
    "from cost_functions import MSE\n",
    "from sklearn.preprocessing import StandardScaler, MinMaxScaler"
   ]
  },
  {
   "cell_type": "markdown",
   "metadata": {},
   "source": [
    "## Read Data"
   ]
  },
  {
   "cell_type": "code",
   "execution_count": 2,
   "metadata": {
    "scrolled": true
   },
   "outputs": [],
   "source": [
    "def individual_task(h_type, degree, scaler):\n",
    "    df = pd.read_csv('data/restaurant_revenue.txt', header=None, sep=',')\n",
    "    if scaler is not None:\n",
    "        df = pd.DataFrame(scaler.fit_transform(df.values))\n",
    "    X = df[[0]].values\n",
    "    y = df[[1]].values\n",
    "    return h_type(X, y, degree=degree)\n"
   ]
  },
  {
   "cell_type": "code",
   "execution_count": 26,
   "metadata": {},
   "outputs": [],
   "source": [
    "max_num_itter = 1000"
   ]
  },
  {
   "cell_type": "markdown",
   "metadata": {},
   "source": [
    "## Classic GD"
   ]
  },
  {
   "cell_type": "code",
   "execution_count": 52,
   "metadata": {},
   "outputs": [],
   "source": [
    "use_scaler = True"
   ]
  },
  {
   "cell_type": "code",
   "execution_count": 63,
   "metadata": {},
   "outputs": [],
   "source": [
    "h = individual_task(Polynomial, 2, StandardScaler() if use_scaler else None)\n",
    "h.weight = np.zeros(h.weight.shape)\n",
    "# h.y = h.y **2\n",
    "loss_history1, weights_history1, y_pred_history1 = classic_grad_descent(h, max_num_itter, MSE, regularization=None, C=1, alpha=0.01, eps=0, mini_batch_size=32)"
   ]
  },
  {
   "cell_type": "markdown",
   "metadata": {},
   "source": [
    "## SGD"
   ]
  },
  {
   "cell_type": "code",
   "execution_count": 64,
   "metadata": {},
   "outputs": [],
   "source": [
    "h = individual_task(Polynomial, 2, StandardScaler() if use_scaler else None)\n",
    "h.weight = np.zeros(h.weight.shape)\n",
    "# h.y = h.y **2\n",
    "loss_history2, weights_history2, y_pred_history2 = stochastic_grad_descent(h, max_num_itter, MSE, regularization=None, C=1, alpha=0.01, eps=0, mini_batch_size=1)"
   ]
  },
  {
   "cell_type": "markdown",
   "metadata": {},
   "source": [
    "## Momentum"
   ]
  },
  {
   "cell_type": "code",
   "execution_count": 65,
   "metadata": {},
   "outputs": [],
   "source": [
    "h = individual_task(Polynomial, 2, StandardScaler() if use_scaler else None)\n",
    "h.weight = np.zeros(h.weight.shape)\n",
    "# h.y = h.y **2\n",
    "loss_history3, weights_history3, y_pred_history3 = momentum_grad_descent(h, max_num_itter, MSE, regularization=None, C=1, alpha=0.01, eps=0, beta=0.9, mini_batch_size=32)"
   ]
  },
  {
   "cell_type": "markdown",
   "metadata": {},
   "source": [
    "## Rmsprop"
   ]
  },
  {
   "cell_type": "code",
   "execution_count": 66,
   "metadata": {},
   "outputs": [],
   "source": [
    "h = individual_task(Polynomial, 2, StandardScaler() if use_scaler else None)\n",
    "h.weight = np.zeros(h.weight.shape)\n",
    "# h.y = h.y **2\n",
    "loss_history4, weights_history4, y_pred_history4 = rmsprop_grad_descent(h, max_num_itter, MSE, regularization=None, C=1, alpha=0.01, eps=0, beta=0.9, epsilon=1e-6, mini_batch_size=32)"
   ]
  },
  {
   "cell_type": "markdown",
   "metadata": {},
   "source": [
    "## Adam"
   ]
  },
  {
   "cell_type": "code",
   "execution_count": 67,
   "metadata": {},
   "outputs": [],
   "source": [
    "h = individual_task(Polynomial, 2, StandardScaler() if use_scaler else None)\n",
    "h.weight = np.zeros(h.weight.shape)\n",
    "# h.y = h.y **2\n",
    "loss_history5, weights_history5, y_pred_history5 = adam_grad_descent(h, max_num_itter, MSE, regularization=None, C=1, alpha=0.01, eps=0, beta1=0.9, beta2=0.999, epsilon=1e-6, mini_batch_size=32)"
   ]
  },
  {
   "cell_type": "markdown",
   "metadata": {},
   "source": [
    "## Gif Creation"
   ]
  },
  {
   "cell_type": "code",
   "execution_count": 68,
   "metadata": {},
   "outputs": [
    {
     "data": {
      "image/png": "[encoded data removed]",
      "text/plain": [
       "<Figure size 432x288 with 1 Axes>"
      ]
     },
     "metadata": {
      "needs_background": "light"
     },
     "output_type": "display_data"
    }
   ],
   "source": [
    "x = h.X_raw[:, 1]\n",
    "y = list(map(lambda x: x[0], h.y))\n",
    "\n",
    "\n",
    "for i in range(200):\n",
    "    plt.plot(x,y,'o')\n",
    "    \n",
    "    y_pred_history_temp = list(map(lambda x: x[0], y_pred_history1[i]))\n",
    "    XY = list(zip(x, y_pred_history_temp))\n",
    "    XY.sort(key=lambda x: x[0])\n",
    "    plt.plot([i[0] for i in XY], [i[1] for i in XY], c='green', label='Classic GD')\n",
    "    \n",
    "    y_pred_history_temp = list(map(lambda x: x[0], y_pred_history2[i]))\n",
    "    XY = list(zip(x, y_pred_history_temp))\n",
    "    XY.sort(key=lambda x: x[0])\n",
    "    plt.plot([i[0] for i in XY], [i[1] for i in XY], c='red', label='SGD')\n",
    "    \n",
    "    y_pred_history_temp = list(map(lambda x: x[0], y_pred_history3[i]))\n",
    "    XY = list(zip(x, y_pred_history_temp))\n",
    "    XY.sort(key=lambda x: x[0])\n",
    "    plt.plot([i[0] for i in XY], [i[1] for i in XY], c='yellow', label='Momentum')\n",
    "    \n",
    "    y_pred_history_temp = list(map(lambda x: x[0], y_pred_history4[i]))\n",
    "    XY = list(zip(x, y_pred_history_temp))\n",
    "    XY.sort(key=lambda x: x[0])\n",
    "    plt.plot([i[0] for i in XY], [i[1] for i in XY], c='cyan', label='Rmsprop')\n",
    "    \n",
    "    y_pred_history_temp = list(map(lambda x: x[0], y_pred_history5[i]))\n",
    "    XY = list(zip(x, y_pred_history_temp))\n",
    "    XY.sort(key=lambda x: x[0])\n",
    "    plt.plot([i[0] for i in XY], [i[1] for i in XY], c='magenta', label='Adam')\n",
    "    \n",
    "    plt.ylim([-1,4])\n",
    "    plt.legend(loc='upper right')\n",
    "\n",
    "    if i>=0 and i<=9:\n",
    "        plt.savefig(f'image/00{i}.png')\n",
    "    elif i>=10 and i<=99:\n",
    "        plt.savefig(f'image/0{i}.png')\n",
    "    else:\n",
    "        plt.savefig(f'image/{i}.png')\n",
    "    plt.cla()\n",
    "            \n",
    "           "
   ]
  },
  {
   "cell_type": "code",
   "execution_count": 23,
   "metadata": {},
   "outputs": [
    {
     "name": "stdout",
     "output_type": "stream",
     "text": [
      "Requirement already satisfied: glob3 in c:\\programdata\\anaconda3\\lib\\site-packages (0.0.1)\n"
     ]
    }
   ],
   "source": [
    "!pip install glob3"
   ]
  },
  {
   "cell_type": "code",
   "execution_count": 22,
   "metadata": {},
   "outputs": [
    {
     "name": "stdout",
     "output_type": "stream",
     "text": [
      "Requirement already satisfied: moviepy in c:\\users\\helen kravchuk\\appdata\\roaming\\python\\python37\\site-packages (1.0.3)\n",
      "Requirement already satisfied: imageio<3.0,>=2.5; python_version >= \"3.4\" in c:\\programdata\\anaconda3\\lib\\site-packages (from moviepy) (2.6.0)\n",
      "Requirement already satisfied: decorator<5.0,>=4.0.2 in c:\\programdata\\anaconda3\\lib\\site-packages (from moviepy) (4.4.0)\n",
      "Requirement already satisfied: numpy>=1.17.3; python_version != \"2.7\" in c:\\users\\helen kravchuk\\appdata\\roaming\\python\\python37\\site-packages (from moviepy) (1.17.3)\n",
      "Requirement already satisfied: imageio-ffmpeg>=0.2.0; python_version >= \"3.4\" in c:\\users\\helen kravchuk\\appdata\\roaming\\python\\python37\\site-packages (from moviepy) (0.4.2)\n",
      "Requirement already satisfied: requests<3.0,>=2.8.1 in c:\\programdata\\anaconda3\\lib\\site-packages (from moviepy) (2.22.0)\n",
      "Requirement already satisfied: proglog<=1.0.0 in c:\\programdata\\anaconda3\\lib\\site-packages (from moviepy) (0.1.9)\n",
      "Requirement already satisfied: tqdm<5.0,>=4.11.2 in c:\\programdata\\anaconda3\\lib\\site-packages (from moviepy) (4.36.1)\n",
      "Requirement already satisfied: pillow in c:\\programdata\\anaconda3\\lib\\site-packages (from imageio<3.0,>=2.5; python_version >= \"3.4\"->moviepy) (6.2.0)\n",
      "Requirement already satisfied: certifi>=2017.4.17 in c:\\programdata\\anaconda3\\lib\\site-packages (from requests<3.0,>=2.8.1->moviepy) (2019.9.11)\n",
      "Requirement already satisfied: idna<2.9,>=2.5 in c:\\programdata\\anaconda3\\lib\\site-packages (from requests<3.0,>=2.8.1->moviepy) (2.8)\n",
      "Requirement already satisfied: urllib3!=1.25.0,!=1.25.1,<1.26,>=1.21.1 in c:\\programdata\\anaconda3\\lib\\site-packages (from requests<3.0,>=2.8.1->moviepy) (1.24.2)\n",
      "Requirement already satisfied: chardet<3.1.0,>=3.0.2 in c:\\programdata\\anaconda3\\lib\\site-packages (from requests<3.0,>=2.8.1->moviepy) (3.0.4)\n"
     ]
    }
   ],
   "source": [
    "!pip install moviepy --user"
   ]
  },
  {
   "cell_type": "code",
   "execution_count": 21,
   "metadata": {},
   "outputs": [
    {
     "name": "stdout",
     "output_type": "stream",
     "text": [
      "Collecting numpy==1.17.3\n",
      "  Using cached https://files.pythonhosted.org/packages/e9/dd/a177f27765b1e5f94fa879cbeef61f8807086371d0b6aa232b836d38b78b/numpy-1.17.3-cp37-cp37m-win_amd64.whl\n",
      "Installing collected packages: numpy\n",
      "Successfully installed numpy-1.17.3\n"
     ]
    },
    {
     "name": "stderr",
     "output_type": "stream",
     "text": [
      "  WARNING: The script f2py.exe is installed in 'C:\\Users\\Helen Kravchuk\\AppData\\Roaming\\Python\\Python37\\Scripts' which is not on PATH.\n",
      "  Consider adding this directory to PATH or, if you prefer to suppress this warning, use --no-warn-script-location.\n"
     ]
    }
   ],
   "source": [
    "!pip install numpy==1.17.3 --user"
   ]
  },
  {
   "cell_type": "code",
   "execution_count": 35,
   "metadata": {},
   "outputs": [],
   "source": [
    "import glob\n",
    "import moviepy.editor as mpy"
   ]
  },
  {
   "cell_type": "code",
   "execution_count": 45,
   "metadata": {},
   "outputs": [
    {
     "name": "stdout",
     "output_type": "stream",
     "text": [
      "MoviePy - Building file GD.gif with imageio.\n"
     ]
    },
    {
     "name": "stderr",
     "output_type": "stream",
     "text": [
      "                                                                                                                       \r"
     ]
    }
   ],
   "source": [
    "gif_name = 'GD'\n",
    "fps = 6\n",
    "file_list = glob.glob('image/*')\n",
    "clip = mpy.ImageSequenceClip(file_list, fps=fps)\n",
    "clip.write_gif('{}.gif'.format(gif_name), fps=fps)"
   ]
  },
  {
   "cell_type": "code",
   "execution_count": null,
   "metadata": {},
   "outputs": [],
   "source": []
  }
 ],
 "metadata": {
  "kernelspec": {
   "display_name": "Python 3",
   "language": "python",
   "name": "python3"
  },
  "language_info": {
   "codemirror_mode": {
    "name": "ipython",
    "version": 3
   },
   "file_extension": ".py",
   "mimetype": "text/x-python",
   "name": "python",
   "nbconvert_exporter": "python",
   "pygments_lexer": "ipython3",
   "version": "3.7.5"
  }
 },
 "nbformat": 4,
 "nbformat_minor": 4
}
