{
 "cells": [
  {
   "cell_type": "code",
   "execution_count": 33,
   "metadata": {},
   "outputs": [],
   "source": [
    "import numpy as np\n",
    "import pandas as pd\n",
    "import matplotlib.pyplot as plt\n",
    "from gradient_descents import classic_grad_descent, stochastic_grad_descent, momentum_grad_descent, rmsprop_grad_descent, adam_grad_descent\n",
    "from hypotheses import Linear\n",
    "from cost_functions import MSE\n",
    "from sklearn.preprocessing import StandardScaler, MinMaxScaler"
   ]
  },
  {
   "cell_type": "markdown",
   "metadata": {},
   "source": [
    "## Read Data"
   ]
  },
  {
   "cell_type": "code",
   "execution_count": 34,
   "metadata": {
    "scrolled": true
   },
   "outputs": [],
   "source": [
    "def individual_task(h_type, degree, scaler):\n",
    "    df = pd.read_csv('data/restaurant_revenue.txt', header=None, sep=',')\n",
    "    if scaler is not None:\n",
    "        df = pd.DataFrame(scaler.fit_transform(df.values))\n",
    "    X = df[[0]].values\n",
    "    y = df[[1]].values\n",
    "    return h_type(X, y, degree=degree)\n"
   ]
  },
  {
   "cell_type": "code",
   "execution_count": 35,
   "metadata": {},
   "outputs": [],
   "source": [
    "max_num_itter = 1000"
   ]
  },
  {
   "cell_type": "markdown",
   "metadata": {},
   "source": [
    "## Classic GD"
   ]
  },
  {
   "cell_type": "code",
   "execution_count": 36,
   "metadata": {},
   "outputs": [],
   "source": [
    "h = individual_task(Linear, 1, None)\n",
    "loss_history1, weights_history1, y_pred_history1 = classic_grad_descent(h, max_num_itter, MSE, regularization=None, C=1, alpha=0.001, eps=0, mini_batch_size=32)"
   ]
  },
  {
   "cell_type": "markdown",
   "metadata": {},
   "source": [
    "## SGD"
   ]
  },
  {
   "cell_type": "code",
   "execution_count": 37,
   "metadata": {},
   "outputs": [],
   "source": [
    "h = individual_task(Linear, 1, None)\n",
    "loss_history2, weights_history2, y_pred_history2 = stochastic_grad_descent(h, max_num_itter, MSE, regularization=None, C=1, alpha=0.01, eps=0, mini_batch_size=1)"
   ]
  },
  {
   "cell_type": "markdown",
   "metadata": {},
   "source": [
    "## Momentum"
   ]
  },
  {
   "cell_type": "code",
   "execution_count": 38,
   "metadata": {},
   "outputs": [],
   "source": [
    "h = individual_task(Linear, 1, None)\n",
    "loss_history3, weights_history3, y_pred_history3 = momentum_grad_descent(h, max_num_itter, MSE, regularization=None, C=1, alpha=0.001, eps=0, beta=0.9, mini_batch_size=32)"
   ]
  },
  {
   "cell_type": "markdown",
   "metadata": {},
   "source": [
    "## Rmsprop"
   ]
  },
  {
   "cell_type": "code",
   "execution_count": 39,
   "metadata": {},
   "outputs": [],
   "source": [
    "h = individual_task(Linear, 1, None)\n",
    "loss_history4, weights_history4, y_pred_history4 = rmsprop_grad_descent(h, max_num_itter, MSE, regularization=None, C=1, alpha=0.001, eps=0, beta=0.9, epsilon=1e-6, mini_batch_size=32)"
   ]
  },
  {
   "cell_type": "code",
   "execution_count": 65,
   "metadata": {},
   "outputs": [
    {
     "data": {
      "text/plain": [
       "array([[ 3.9824828 ],\n",
       "       [ 3.62123866],\n",
       "       [ 5.47639852],\n",
       "       [ 4.53644424],\n",
       "       [ 3.8272297 ],\n",
       "       [ 5.39222814],\n",
       "       [ 4.82995511],\n",
       "       [ 5.51330447],\n",
       "       [ 4.21576564],\n",
       "       [ 3.32778982],\n",
       "       [ 3.73474772],\n",
       "       [ 8.97806005],\n",
       "       [ 3.74919997],\n",
       "       [ 5.40804498],\n",
       "       [ 3.69132896],\n",
       "       [ 3.5292529 ],\n",
       "       [ 4.14083725],\n",
       "       [ 3.37462006],\n",
       "       [ 4.18065846],\n",
       "       [ 4.57837437],\n",
       "       [ 4.03148398],\n",
       "       [12.76541707],\n",
       "       [ 3.59791658],\n",
       "       [ 4.11646071],\n",
       "       [ 3.64431263],\n",
       "       [11.94356184],\n",
       "       [ 8.14938187],\n",
       "       [ 6.98886026],\n",
       "       [ 8.36523517],\n",
       "       [13.96439531],\n",
       "       [ 3.45047885],\n",
       "       [ 4.2797773 ],\n",
       "       [ 5.92894613],\n",
       "       [ 3.84707828],\n",
       "       [ 5.28566608],\n",
       "       [ 5.11341763],\n",
       "       [ 5.2142112 ],\n",
       "       [ 3.66999173],\n",
       "       [ 8.15434402],\n",
       "       [ 4.13339403],\n",
       "       [ 3.54631027],\n",
       "       [ 4.46157788],\n",
       "       [ 7.4546816 ],\n",
       "       [ 3.77382461],\n",
       "       [ 5.04599449],\n",
       "       [ 4.59220635],\n",
       "       [ 3.33746601],\n",
       "       [ 3.79100604],\n",
       "       [ 7.44971946],\n",
       "       [ 3.62986039],\n",
       "       [ 4.86952821],\n",
       "       [ 3.48477968],\n",
       "       [ 4.79739103],\n",
       "       [ 4.90854308],\n",
       "       [ 4.12061651],\n",
       "       [ 4.13680551],\n",
       "       [ 4.0842688 ],\n",
       "       [ 3.69070869],\n",
       "       [ 5.96740275],\n",
       "       [ 6.0563492 ],\n",
       "       [ 5.66669677],\n",
       "       [ 3.40513725],\n",
       "       [13.39126759],\n",
       "       [ 9.43953952],\n",
       "       [11.95224559],\n",
       "       [ 4.66980188],\n",
       "       [ 5.3377686 ],\n",
       "       [ 6.54164696],\n",
       "       [ 3.60368507],\n",
       "       [12.80945611],\n",
       "       [ 6.47962015],\n",
       "       [ 4.74193906],\n",
       "       [ 3.91803695],\n",
       "       [ 4.67457795],\n",
       "       [ 3.3106084 ],\n",
       "       [ 4.25403618],\n",
       "       [ 4.86853578],\n",
       "       [ 3.31656297],\n",
       "       [ 6.56521714],\n",
       "       [ 3.36072606],\n",
       "       [ 3.74622268],\n",
       "       [ 3.41078169],\n",
       "       [ 4.13482065],\n",
       "       [ 6.25179567],\n",
       "       [ 4.2341876 ],\n",
       "       [ 5.47553015],\n",
       "       [ 5.8867679 ],\n",
       "       [ 3.91543182],\n",
       "       [ 3.6167107 ],\n",
       "       [ 3.33076711],\n",
       "       [ 3.73288692],\n",
       "       [ 4.92932206],\n",
       "       [ 3.83399062],\n",
       "       [ 3.48335306],\n",
       "       [ 5.33671415],\n",
       "       [ 8.50045362],\n",
       "       [ 3.56491832]])"
      ]
     },
     "execution_count": 65,
     "metadata": {},
     "output_type": "execute_result"
    }
   ],
   "source": [
    "y_pred_history2[16]"
   ]
  },
  {
   "cell_type": "markdown",
   "metadata": {},
   "source": [
    "## Adam"
   ]
  },
  {
   "cell_type": "code",
   "execution_count": 40,
   "metadata": {},
   "outputs": [],
   "source": [
    "h = individual_task(Linear, 1, None)\n",
    "loss_history5, weights_history5, y_pred_history5 = adam_grad_descent(h, max_num_itter, MSE, regularization=None, C=1, alpha=0.001, eps=0, beta1=0.9, beta2=0.999, epsilon=1e-6, mini_batch_size=32)"
   ]
  },
  {
   "cell_type": "markdown",
   "metadata": {},
   "source": [
    "## Gif Creation"
   ]
  },
  {
   "cell_type": "code",
   "execution_count": 60,
   "metadata": {},
   "outputs": [
    {
     "data": {
      "image/png": "[encoded data removed]",
      "text/plain": [
       "<Figure size 432x288 with 1 Axes>"
      ]
     },
     "metadata": {
      "needs_background": "light"
     },
     "output_type": "display_data"
    }
   ],
   "source": [
    "x = h.X_raw[:, 1]\n",
    "y = list(map(lambda x: x[0], h.y))\n",
    "\n",
    "\n",
    "for i in range(200):\n",
    "    plt.plot(x,y,'o')\n",
    "    \n",
    "\n",
    "    \n",
    "    y_pred_history_temp = list(map(lambda x: x[0], y_pred_history4[i]))\n",
    "    XY = list(zip(x, y_pred_history_temp))\n",
    "    XY.sort(key=lambda x: x[0])\n",
    "    plt.plot([i[0] for i in XY], [i[1] for i in XY], c='cyan', label ='Rmsprop')\n",
    "    \n",
    "    y_pred_history_temp = list(map(lambda x: x[0], y_pred_history5[i]))\n",
    "    XY = list(zip(x, y_pred_history_temp))\n",
    "    XY.sort(key=lambda x: x[0])\n",
    "    plt.plot([i[0] for i in XY], [i[1] for i in XY], c='magenta', label ='Adam')\n",
    "    \n",
    "    plt.ylim([-40,70])\n",
    "    plt.legend(loc='upper right')\n",
    "\n",
    "    if i>=0 and i<=9:\n",
    "        plt.savefig(f'image/00{i}.png')\n",
    "    elif i>=10 and i<=99:\n",
    "        plt.savefig(f'image/0{i}.png')\n",
    "    else:\n",
    "        plt.savefig(f'image/{i}.png')\n",
    "    plt.cla()\n",
    "            \n",
    "           "
   ]
  },
  {
   "cell_type": "code",
   "execution_count": 23,
   "metadata": {},
   "outputs": [
    {
     "name": "stdout",
     "output_type": "stream",
     "text": [
      "Requirement already satisfied: glob3 in c:\\programdata\\anaconda3\\lib\\site-packages (0.0.1)\n"
     ]
    }
   ],
   "source": [
    "!pip install glob3"
   ]
  },
  {
   "cell_type": "code",
   "execution_count": 22,
   "metadata": {},
   "outputs": [
    {
     "name": "stdout",
     "output_type": "stream",
     "text": [
      "Requirement already satisfied: moviepy in c:\\users\\helen kravchuk\\appdata\\roaming\\python\\python37\\site-packages (1.0.3)\n",
      "Requirement already satisfied: imageio<3.0,>=2.5; python_version >= \"3.4\" in c:\\programdata\\anaconda3\\lib\\site-packages (from moviepy) (2.6.0)\n",
      "Requirement already satisfied: decorator<5.0,>=4.0.2 in c:\\programdata\\anaconda3\\lib\\site-packages (from moviepy) (4.4.0)\n",
      "Requirement already satisfied: numpy>=1.17.3; python_version != \"2.7\" in c:\\users\\helen kravchuk\\appdata\\roaming\\python\\python37\\site-packages (from moviepy) (1.17.3)\n",
      "Requirement already satisfied: imageio-ffmpeg>=0.2.0; python_version >= \"3.4\" in c:\\users\\helen kravchuk\\appdata\\roaming\\python\\python37\\site-packages (from moviepy) (0.4.2)\n",
      "Requirement already satisfied: requests<3.0,>=2.8.1 in c:\\programdata\\anaconda3\\lib\\site-packages (from moviepy) (2.22.0)\n",
      "Requirement already satisfied: proglog<=1.0.0 in c:\\programdata\\anaconda3\\lib\\site-packages (from moviepy) (0.1.9)\n",
      "Requirement already satisfied: tqdm<5.0,>=4.11.2 in c:\\programdata\\anaconda3\\lib\\site-packages (from moviepy) (4.36.1)\n",
      "Requirement already satisfied: pillow in c:\\programdata\\anaconda3\\lib\\site-packages (from imageio<3.0,>=2.5; python_version >= \"3.4\"->moviepy) (6.2.0)\n",
      "Requirement already satisfied: certifi>=2017.4.17 in c:\\programdata\\anaconda3\\lib\\site-packages (from requests<3.0,>=2.8.1->moviepy) (2019.9.11)\n",
      "Requirement already satisfied: idna<2.9,>=2.5 in c:\\programdata\\anaconda3\\lib\\site-packages (from requests<3.0,>=2.8.1->moviepy) (2.8)\n",
      "Requirement already satisfied: urllib3!=1.25.0,!=1.25.1,<1.26,>=1.21.1 in c:\\programdata\\anaconda3\\lib\\site-packages (from requests<3.0,>=2.8.1->moviepy) (1.24.2)\n",
      "Requirement already satisfied: chardet<3.1.0,>=3.0.2 in c:\\programdata\\anaconda3\\lib\\site-packages (from requests<3.0,>=2.8.1->moviepy) (3.0.4)\n"
     ]
    }
   ],
   "source": [
    "!pip install moviepy --user"
   ]
  },
  {
   "cell_type": "code",
   "execution_count": 21,
   "metadata": {},
   "outputs": [
    {
     "name": "stdout",
     "output_type": "stream",
     "text": [
      "Collecting numpy==1.17.3\n",
      "  Using cached https://files.pythonhosted.org/packages/e9/dd/a177f27765b1e5f94fa879cbeef61f8807086371d0b6aa232b836d38b78b/numpy-1.17.3-cp37-cp37m-win_amd64.whl\n",
      "Installing collected packages: numpy\n",
      "Successfully installed numpy-1.17.3\n"
     ]
    },
    {
     "name": "stderr",
     "output_type": "stream",
     "text": [
      "  WARNING: The script f2py.exe is installed in 'C:\\Users\\Helen Kravchuk\\AppData\\Roaming\\Python\\Python37\\Scripts' which is not on PATH.\n",
      "  Consider adding this directory to PATH or, if you prefer to suppress this warning, use --no-warn-script-location.\n"
     ]
    }
   ],
   "source": [
    "!pip install numpy==1.17.3 --user"
   ]
  },
  {
   "cell_type": "code",
   "execution_count": 35,
   "metadata": {},
   "outputs": [],
   "source": [
    "import glob\n",
    "import moviepy.editor as mpy"
   ]
  },
  {
   "cell_type": "code",
   "execution_count": 45,
   "metadata": {},
   "outputs": [
    {
     "name": "stdout",
     "output_type": "stream",
     "text": [
      "MoviePy - Building file GD.gif with imageio.\n"
     ]
    },
    {
     "name": "stderr",
     "output_type": "stream",
     "text": [
      "                                                                                                                       \r"
     ]
    }
   ],
   "source": [
    "gif_name = 'GD'\n",
    "fps = 6\n",
    "file_list = glob.glob('image/*')\n",
    "clip = mpy.ImageSequenceClip(file_list, fps=fps)\n",
    "clip.write_gif('{}.gif'.format(gif_name), fps=fps)"
   ]
  },
  {
   "cell_type": "code",
   "execution_count": null,
   "metadata": {},
   "outputs": [],
   "source": []
  }
 ],
 "metadata": {
  "kernelspec": {
   "display_name": "Python 3",
   "language": "python",
   "name": "python3"
  },
  "language_info": {
   "codemirror_mode": {
    "name": "ipython",
    "version": 3
   },
   "file_extension": ".py",
   "mimetype": "text/x-python",
   "name": "python",
   "nbconvert_exporter": "python",
   "pygments_lexer": "ipython3",
   "version": "3.7.4"
  }
 },
 "nbformat": 4,
 "nbformat_minor": 2
}
